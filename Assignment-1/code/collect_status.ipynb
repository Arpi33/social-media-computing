{
 "cells": [
  {
   "cell_type": "code",
   "execution_count": 1,
   "source": [
    "#Variables that contains the user credentials to access Twitter API\r\n",
    "access_token = \"2413986637-DtjxGNmKYarpRwwqKK95A1r8S5dX5Fyq2ta3E2K\"\r\n",
    "access_token_secret = \"x75c1CKuNXJHzZq4RZHKWsxyVMhOIrL15K5o9HMdnJVO2\"\r\n",
    "consumer_key = \"CT2cCmaVGPpzO3IL3bDdTkctQ\"\r\n",
    "consumer_secret = \"8AkR9SqifUBwgs8hKpYHVkOG9rdmvmLDzAApiXcfyZcVpJMZiK\""
   ],
   "outputs": [],
   "metadata": {}
  },
  {
   "cell_type": "code",
   "execution_count": 2,
   "source": [
    "import pandas as pd\r\n",
    "import tweepy\r\n",
    "from tweepy import OAuthHandler\r\n",
    "from datetime import date"
   ],
   "outputs": [],
   "metadata": {}
  },
  {
   "cell_type": "code",
   "execution_count": 3,
   "source": [
    "## Create dataframe to store the infomation\r\n",
    "names= ['Number_of_Tweets','Number_of_Followers','Number_of_Friends','Total Retweet Count','Total Favourite Count','Average Retweet Count','Average Favourite Count','Date']\r\n",
    "df = pd.DataFrame(columns = names)\r\n",
    "df1 = pd.DataFrame(columns = names)"
   ],
   "outputs": [],
   "metadata": {}
  },
  {
   "cell_type": "code",
   "execution_count": 4,
   "source": [
    "screen_name = \"SamsungMobile\"\r\n",
    "\r\n",
    "import sys\r\n",
    "import json\r\n",
    "from tweepy import Cursor\r\n",
    "import tweepy\r\n",
    "from tweepy import OAuthHandler\r\n",
    "\r\n",
    "\r\n",
    "# authentication\r\n",
    "auth = OAuthHandler(consumer_key, consumer_secret)\r\n",
    "auth.set_access_token(access_token, access_token_secret)\r\n",
    "api = tweepy.API(auth, wait_on_rate_limit=True)\r\n",
    "#collect user timeline\r\n",
    "if __name__ == '__main__':\r\n",
    "    user = \"SamsungMobile\" #screen name\r\n",
    "    fname = \"user_timeline_{}.json\".format(user)\r\n",
    "    print(\"Collecting timeline statuses for\", user)\r\n",
    "    with open(fname, 'w') as f:\r\n",
    "        for page in Cursor(api.user_timeline, screen_name=user, count=200).pages(16):\r\n",
    "            for status in page:                \r\n",
    "                f.write(json.dumps(status._json)+\"\\n\")\r\n",
    "\r\n",
    "    print(\"User Timeline Tweets collected\")"
   ],
   "outputs": [
    {
     "output_type": "stream",
     "name": "stdout",
     "text": [
      "Collecting timeline statuses for SamsungMobile\n",
      "User Timeline Tweets collected\n"
     ]
    }
   ],
   "metadata": {}
  },
  {
   "cell_type": "code",
   "execution_count": 5,
   "source": [
    "import sys\r\n",
    "import json\r\n",
    "ret_c = 0\r\n",
    "fav_c = 0\r\n",
    "\r\n",
    "timeline_file1 = 'user_timeline_{}.json'.format(screen_name)\r\n",
    "\r\n",
    "with open(timeline_file1) as f1:\r\n",
    "    tweet,favorite_count1, retweet_count1 = [], [], []\r\n",
    "    for line in f1:\r\n",
    "        tweet = json.loads(line)\r\n",
    "        #calculate retweet count and favourite count\r\n",
    "        ret_c = tweet['retweet_count'] + ret_c\r\n",
    "        fav_c = tweet['favorite_count'] + fav_c"
   ],
   "outputs": [],
   "metadata": {}
  },
  {
   "cell_type": "code",
   "execution_count": 6,
   "source": [
    "user = api.get_user(screen_name) \r\n",
    "today = date.today()\r\n",
    "df = df.append({\r\n",
    "    #append the value to their respective column\r\n",
    "    'Number_of_Tweets': user.statuses_count , \r\n",
    "    'Number_of_Followers' :user.followers_count,\r\n",
    "    'Number_of_Friends' :user.friends_count,\r\n",
    "    'Total Retweet Count': ret_c,\r\n",
    "    'Total Favourite Count': fav_c,\r\n",
    "    'Average Retweet Count': ret_c/user.statuses_count,\r\n",
    "    'Average Favourite Count': fav_c/user.statuses_count,\r\n",
    "    'Date': today}, ignore_index=True)"
   ],
   "outputs": [],
   "metadata": {}
  },
  {
   "cell_type": "code",
   "execution_count": 7,
   "source": [
    "screen_name = \"HuaweiMobile\"\r\n",
    "\r\n",
    "import sys\r\n",
    "import json\r\n",
    "from tweepy import Cursor\r\n",
    "import tweepy\r\n",
    "from tweepy import OAuthHandler\r\n",
    "\r\n",
    "\r\n",
    "# authentication\r\n",
    "auth = OAuthHandler(consumer_key, consumer_secret)\r\n",
    "auth.set_access_token(access_token, access_token_secret)\r\n",
    "api = tweepy.API(auth, wait_on_rate_limit=True)\r\n",
    "\r\n",
    "if __name__ == '__main__':\r\n",
    "    user = \"HuaweiMobile\" #screen name\r\n",
    "    fname = \"user_timeline_{}.json\".format(user)\r\n",
    "    print(\"Collecting timeline statuses for\", user)\r\n",
    "    with open(fname, 'w') as f:\r\n",
    "        for page in Cursor(api.user_timeline, screen_name=user, count=200).pages(16):\r\n",
    "            for status in page:                \r\n",
    "                f.write(json.dumps(status._json)+\"\\n\")\r\n",
    "\r\n",
    "    print(\"User Timeline Tweets collected\")"
   ],
   "outputs": [
    {
     "output_type": "stream",
     "name": "stdout",
     "text": [
      "Collecting timeline statuses for HuaweiMobile\n",
      "User Timeline Tweets collected\n"
     ]
    }
   ],
   "metadata": {}
  },
  {
   "cell_type": "code",
   "execution_count": 8,
   "source": [
    "import sys\r\n",
    "import json\r\n",
    "ret_c = 0\r\n",
    "fav_c = 0\r\n",
    "\r\n",
    "timeline_file1 = 'user_timeline_{}.json'.format(screen_name)\r\n",
    "\r\n",
    "with open(timeline_file1) as f1:\r\n",
    "    tweet,favorite_count1, retweet_count1 = [], [], []\r\n",
    "    for line in f1:\r\n",
    "        tweet = json.loads(line)\r\n",
    "        ret_c = tweet['retweet_count'] + ret_c\r\n",
    "        fav_c = tweet['favorite_count'] + fav_c"
   ],
   "outputs": [],
   "metadata": {}
  },
  {
   "cell_type": "code",
   "execution_count": 9,
   "source": [
    "user = api.get_user(screen_name) \r\n",
    "today = date.today()\r\n",
    "df1 = df1.append({\r\n",
    "    'Number_of_Tweets': user.statuses_count , \r\n",
    "    'Number_of_Followers' :user.followers_count,\r\n",
    "    'Number_of_Friends' :user.friends_count,\r\n",
    "    'Total Retweet Count': ret_c,\r\n",
    "    'Total Favourite Count': fav_c,\r\n",
    "    'Average Retweet Count': ret_c/user.statuses_count,\r\n",
    "    'Average Favourite Count': fav_c/user.statuses_count,\r\n",
    "    'Date': today}, ignore_index=True)"
   ],
   "outputs": [],
   "metadata": {}
  },
  {
   "cell_type": "code",
   "execution_count": 10,
   "source": [
    "df.to_csv(\"Samsung status_2-Oct.csv\",index=False)\r\n",
    "df1.to_csv(\"Huawei status_2-Oct.csv\",index=False)"
   ],
   "outputs": [],
   "metadata": {}
  },
  {
   "cell_type": "code",
   "execution_count": null,
   "source": [],
   "outputs": [],
   "metadata": {}
  }
 ],
 "metadata": {
  "orig_nbformat": 4,
  "language_info": {
   "name": "python",
   "version": "3.8.8",
   "mimetype": "text/x-python",
   "codemirror_mode": {
    "name": "ipython",
    "version": 3
   },
   "pygments_lexer": "ipython3",
   "nbconvert_exporter": "python",
   "file_extension": ".py"
  },
  "kernelspec": {
   "name": "python3",
   "display_name": "Python 3.8.8 64-bit ('base': conda)"
  },
  "interpreter": {
   "hash": "ae285ba9520bcab4d63e6910aed7c28659e7937c8d25ebe01904bf0e4891ebfb"
  }
 },
 "nbformat": 4,
 "nbformat_minor": 2
}